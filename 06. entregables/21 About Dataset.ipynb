{
 "cells": [
  {
   "cell_type": "markdown",
   "metadata": {},
   "source": [
    "# Report with details about dataset\n",
    "**Project Team No 21**"
   ]
  },
  {
   "cell_type": "markdown",
   "metadata": {},
   "source": [
    "The dataset comes from the records made by the devices installed in each of the vehicles in operation of El Valle de Aburrá public transport system and which are part of the Metropolitan Collective Public Transport Management Plataform (GTPC).\n",
    "\n",
    "Therefore the entity gave us a data set with the following columns"
   ]
  },
  {
   "cell_type": "markdown",
   "metadata": {},
   "source": [
    "|        **FIELD**    |                                    **DESCRIPTION**                                |\n",
    "|:------------------- |:--------------------------------------------------------------------------------- |\n",
    "| SECUENCIARECORRIDO  | Primary key that identifies the track for a vehicle                               |\n",
    "| RECORRIDOFINALIZADO | Complete / incomplete flag (S/N)                                                  |\n",
    "| IDVEHICULO          | unique identifier for a vehicle                                                   |\n",
    "| CODIGORUTA          | unique identifier for a track, each of these identifiers are related to a KML file|\n",
    "| FECHAREGISTRO       | date and time when the data was recorded                                          |\n",
    "| LATITUD             | The latitude where passengers board/alight the vehicle*                           |\n",
    "| LONGITUD            | The longitude where passengers board/alight the vehicle*                          |\n",
    "| SUBENDELANTERA      | Quantity of passengers that board the vehicle through the front door              |\n",
    "| SUBENTRASERA        | Quantity of passengers that board the vehicle through the back door               |\n",
    "| BAJANDELANTERA      | Quantity of passengers that alight the vehicle through the front door             |\n",
    "| BAJANTRASERA        | Quantity of passengers that alight the vehicle through the back door              |"
   ]
  },
  {
   "cell_type": "markdown",
   "metadata": {},
   "source": [
    "## Details of the variables"
   ]
  },
  {
   "cell_type": "markdown",
   "metadata": {},
   "source": [
    "**1. SECUENCIARECORRIDO**\n",
    "\n",
    "**Datatype**: Integer type number.  \n",
    "**Meaning**: It is a unique identifier of the trip of a public transport vehicle on a date and on a certain route. \n",
    "**Values taken**: The identifier is generated automatically with each new trip.  \n",
    "**Utility**: By uniquely identifying the trip of a vehicle, it allows obtaining information such as the start and end date of a tour and the number of events where there was passenger movement for any trip recorded in the time horizon of the dataset. Counting the unique values of the variable returns the total recorded trips.\n",
    "\n",
    "The variable represents the route and the vehicle on a unique route. There is no null values. It is observed that 2% (501.203) of the records contains unique id's for \"recorrido\". The most frequent id is 134795181.\n",
    "\n",
    "\n",
    "**2. RECORRIDOFINALIZADO**\n",
    "\n",
    "Datatype: Single character text.  \n",
    "Meaning: a binary variable that indicates if the vehicle's journey or route ended, that is, if it completed the route, or did not.  \n",
    "Values taken: S if the vehicle tour was completed successfully, N otherwise.  \n",
    "Utility: allows a trip to be classified as successful or unsuccessful during the observation time recorded in the dataset. A metric such as the rate of incomplete trips per route, for a certain transport vehicle or per period of time could be constructed. \n",
    "\n",
    "categorical variable with no missing values, 93% of the records correspond to completed routes. Observing unique routes we can say that 88% of those correspond to completed routes and 12% remaining to unfinished routes\n",
    "\n",
    "**3. IDVEHICULO**\n",
    "\n",
    "Datatype: Integer type number.  \n",
    "Meaning: is an unique identifier for each vehicle that operates on the public transportation network whose trips were recorded in the dataset.  \n",
    "Values taken: the number is an internal code of the entity to identify each vehicle in operation.  \n",
    "Utility: It would allow obtaining the characteristics of each vehicle in an eventual crossing of the dataset with another that contains important attributes such as number of seats, number of foot passengers, maximum capacity, incidents due to mechanical failures, among others. It also allows calculating the number of vehicles in operation on a certain route or section of route or during a certain period of time, that is, the frequency of vehicles.\n",
    "\n",
    "Numerical column with no missing values.The most frequent vehicle is the id 6106. We have 2371 unique vehicles\n",
    "\n",
    "**4. CODIGORUTA**\n",
    "\n",
    "Datatype: Integer type number.  \n",
    "Meaning: Code that identifies the route for transmission to the platform.  \n",
    "Values taken: Unique identifier for each route assigned by the entity.  \n",
    "Utility: It is the analogous to the variable IDVEHICULO. Although each route corresponds to only one vehicle and one route, a route can have different routes as well as different associated vehicles.\n",
    "\n",
    "numerical variable with no missing values. We have 248 routes and the most frequent one is the route 2102\n",
    "\n",
    "**5. FECHAREGISTRO**\n",
    "\n",
    "Datatype: Text containing date and time of the form dd/mm/yyyy hh:mm.  \n",
    "Meaning: it is the record of the moment in which a passenger movement event occurs, that is, the date and time in which passengers board and alight each time the vehicle stops.  \n",
    "Values taken: It is a date with the format dd / mm / yyyy hh: mm, where dd: is the day of the month (0 to 31), mm: is the month of the year (1 to 12), yyyy is the year (2019 and 2020) , hh: mm is the hour (00 to 23) and the minutes (00 to 59). The dates of the events are unique per trip, vehicle and route.  \n",
    "Utility:  It allows filtering any data registered in the dataset, variable or metric calculated for a certain instant or time interval. The minimum interval of interest is the hour and the maximum the day.\n",
    "\n",
    "datetime variable with no missing values, format YYYY-MM-DD HH:MM:SS 24H. We have values from 2019-11-01 00:00:03 until 2020-05-10 22:21:51, but we only have records from november-2019 and from march to april-2020\n",
    "\n",
    "**6. LATITUD and LONGITUD**\n",
    "\n",
    "Datatype: Float type number.  \n",
    "Meaning: It is the exact location in geographical coordinates of the occurrence of a passenger movement event. Latitude is the distance in degrees between any parallel and the line of the equator. Longitude is the measure of the arc between the zero meridian and the meridian of any point.  \n",
    "Values taken: Latitude is between 6.10 and 6.30 degrees to the north (positive values) and longitude between 75.5 and 75.6 degrees to the west (negative values).  \n",
    "Utility: In addition to georeferencing the events, it allows associating them to the nodes that the entity established in the entire public transport network of El Valle de Aburrá. This will be useful when calculating metrics on the number and flow of passengers in certain areas and route segments of the network.\n",
    "\n",
    "variable type float with no missing values that correspond to locations of the stop events. However we detect 19646 records with coordinates (0,0) and also we found 21049 possible outliers\n",
    "\n",
    "variable type float with no missing values that correspond to locations of the stop events. However we detect 19646 records with coordinates (0,0) and also we found 20210 possible outliers\n",
    "\n",
    "**7. SUBENDELANTERA and SUBENTRASERA**\n",
    "\n",
    "Datatype: Integer type number.  \n",
    "Meaning: It counts the total number of passengers who board the bus at each stop on the route (designated by the two previous variables) through the front or rear door respectively.  \n",
    "Values taken: Non-negative integers.\n",
    "Utility: These are the variables required to calculate the passenger load by date, by arc and by route of the public transport network. The sum of the two variables returns the total number of passengers who board a vehicle. This number when filtering by any other variable, range or group of variables, returns the number of boardings per category of variables, the rate of boardings per range, among others. Therefore, it is quite useful to build performance indicators (KPIs) that describe the operation and capabilities of the public bus transport system. By grouping boardings by areas of the transportation network, those that demand more or less transportation services can be identified.\n",
    "\n",
    "SUBENTRASERA usually occurs when the bus is overloaded, therefore, this variable could be used later, to find cases where such event exists.\n",
    "\n",
    "**8. BAJANDELANTERA and BAJANTRASERA**\n",
    "\n",
    "Datatype: Integer type number.  \n",
    "Meaning: It is the number of passengers who alight through the front / rear door of a vehicle each time it stops.  \n",
    "Values taken: Non-negative integers.  \n",
    "Utility: These are the variables required to calculate the passenger load by date, by arc and by route of the public transport network. The sum of the two variables returns the total number of passengers alighting from a vehicle. This number when filtering by any other variable, range or group of variables, returns the number of alights by category of the variable, the rate of alights by range, among others. Along with the boardings, performance indicators (KPIs) can be built. By grouping the alights in passengers by zones of the transport network, the most or less popular destinations can be identified.\n",
    "\n",
    "The variables Subendelantera, Subentrasera, Bajandelantera and Bajantrasera show a normal behavior according to the characteristics of these variables, due that it is normal one passenger gets on or gets off at the same time. We also discovered that the range of values is between 0 and 99.\n",
    "\n",
    "In the case of Subendelantera variable there are 160010 records above 10 (above 3 standard deviation from the mean), which it needs to be analyzed with more detail before taking any action"
   ]
  },
  {
   "cell_type": "markdown",
   "metadata": {},
   "source": [
    "## Analysis of the data of Network Transport"
   ]
  },
  {
   "cell_type": "markdown",
   "metadata": {},
   "source": [
    "According to the requirement of the entity, where the analysis of the demand of passengers of the transport network is requested, it is necessary to start from the base of the configuration of the road network on which the vehicles operate.\n",
    "\n",
    "For this, the entity made available the data of the transport network in gis format, having the following.\n",
    "\n",
    "Details of the nodes\n",
    "\n",
    " - emme_nodes.cpg\n",
    " - emme_nodes.dbf\n",
    " - emme_nodes.prj\n",
    " - emme_nodes.shx\n",
    " \n",
    "Segment Details\n",
    "\n",
    " - emme_tsegs.cpg\n",
    " - emme_tsegs.dbf\n",
    " - emme_tsegs.prj\n",
    " - emme_tsegs.shx\n",
    "\n",
    "Through the library **shapefile** we explore the files to visualize the detail of the road network of the City of Medellin."
   ]
  },
  {
   "cell_type": "code",
   "execution_count": 1,
   "metadata": {},
   "outputs": [],
   "source": [
    "# Importar librerias\n",
    "from keplergl import KeplerGl \n",
    "import pandas as pd\n",
    "import geopandas as gdp\n",
    "import folium\n",
    "import shapefile"
   ]
  },
  {
   "cell_type": "markdown",
   "metadata": {},
   "source": [
    "### Road network data"
   ]
  },
  {
   "cell_type": "code",
   "execution_count": 10,
   "metadata": {},
   "outputs": [],
   "source": [
    "red_vial = gdp.read_file('/Users/jorgesaavedra/Downloads/2017/emme_tsegs.shx')"
   ]
  },
  {
   "cell_type": "markdown",
   "metadata": {},
   "source": [
    "Once the data is loaded, we can see that we have `9.470.412` data from the road network of the City of Medellin."
   ]
  },
  {
   "cell_type": "markdown",
   "metadata": {},
   "source": [
    "Configuration parameters of the shape of the road network"
   ]
  },
  {
   "cell_type": "code",
   "execution_count": 11,
   "metadata": {
    "scrolled": true
   },
   "outputs": [
    {
     "data": {
      "text/plain": [
       "<Projected CRS: EPSG:32618>\n",
       "Name: WGS 84 / UTM zone 18N\n",
       "Axis Info [cartesian]:\n",
       "- E[east]: Easting (metre)\n",
       "- N[north]: Northing (metre)\n",
       "Area of Use:\n",
       "- name: World - N hemisphere - 78°W to 72°W - by country\n",
       "- bounds: (-78.0, 0.0, -72.0, 84.0)\n",
       "Coordinate Operation:\n",
       "- name: UTM zone 18N\n",
       "- method: Transverse Mercator\n",
       "Datum: World Geodetic System 1984\n",
       "- Ellipsoid: WGS 84\n",
       "- Prime Meridian: Greenwich"
      ]
     },
     "execution_count": 11,
     "metadata": {},
     "output_type": "execute_result"
    }
   ],
   "source": [
    "red_vial.crs"
   ]
  },
  {
   "cell_type": "markdown",
   "metadata": {},
   "source": [
    "Detail of the data from the road network file"
   ]
  },
  {
   "cell_type": "code",
   "execution_count": 5,
   "metadata": {
    "scrolled": false
   },
   "outputs": [
    {
     "data": {
      "text/html": [
       "<div>\n",
       "<style scoped>\n",
       "    .dataframe tbody tr th:only-of-type {\n",
       "        vertical-align: middle;\n",
       "    }\n",
       "\n",
       "    .dataframe tbody tr th {\n",
       "        vertical-align: top;\n",
       "    }\n",
       "\n",
       "    .dataframe thead th {\n",
       "        text-align: right;\n",
       "    }\n",
       "</style>\n",
       "<table border=\"1\" class=\"dataframe\">\n",
       "  <thead>\n",
       "    <tr style=\"text-align: right;\">\n",
       "      <th></th>\n",
       "      <th>ID</th>\n",
       "      <th>X</th>\n",
       "      <th>Y</th>\n",
       "      <th>DATA1</th>\n",
       "      <th>DATA2</th>\n",
       "      <th>DATA3</th>\n",
       "      <th>ISZONE</th>\n",
       "      <th>ISINTERSEC</th>\n",
       "      <th>LABEL</th>\n",
       "      <th>INBOAI</th>\n",
       "      <th>...</th>\n",
       "      <th>@node_boar</th>\n",
       "      <th>@outodmetr</th>\n",
       "      <th>@pasmasivo</th>\n",
       "      <th>@pasmasiv0</th>\n",
       "      <th>@salidamas</th>\n",
       "      <th>@salidama0</th>\n",
       "      <th>@selem</th>\n",
       "      <th>@seln</th>\n",
       "      <th>@semaforo</th>\n",
       "      <th>geometry</th>\n",
       "    </tr>\n",
       "  </thead>\n",
       "  <tbody>\n",
       "    <tr>\n",
       "      <th>0</th>\n",
       "      <td>1</td>\n",
       "      <td>440298.0</td>\n",
       "      <td>696320.0</td>\n",
       "      <td>0.0</td>\n",
       "      <td>0.0</td>\n",
       "      <td>0.0</td>\n",
       "      <td>1</td>\n",
       "      <td>0</td>\n",
       "      <td>0001</td>\n",
       "      <td>0.0</td>\n",
       "      <td>...</td>\n",
       "      <td>0.0</td>\n",
       "      <td>0.0</td>\n",
       "      <td>0.0</td>\n",
       "      <td>0.0</td>\n",
       "      <td>0.0</td>\n",
       "      <td>0.0</td>\n",
       "      <td>0.0</td>\n",
       "      <td>0.0</td>\n",
       "      <td>0.0</td>\n",
       "      <td>POINT (440298.000 696320.000)</td>\n",
       "    </tr>\n",
       "    <tr>\n",
       "      <th>1</th>\n",
       "      <td>2</td>\n",
       "      <td>440457.0</td>\n",
       "      <td>695794.0</td>\n",
       "      <td>0.0</td>\n",
       "      <td>0.0</td>\n",
       "      <td>0.0</td>\n",
       "      <td>1</td>\n",
       "      <td>0</td>\n",
       "      <td>0002</td>\n",
       "      <td>0.0</td>\n",
       "      <td>...</td>\n",
       "      <td>0.0</td>\n",
       "      <td>0.0</td>\n",
       "      <td>0.0</td>\n",
       "      <td>0.0</td>\n",
       "      <td>0.0</td>\n",
       "      <td>0.0</td>\n",
       "      <td>0.0</td>\n",
       "      <td>0.0</td>\n",
       "      <td>0.0</td>\n",
       "      <td>POINT (440457.000 695794.000)</td>\n",
       "    </tr>\n",
       "    <tr>\n",
       "      <th>2</th>\n",
       "      <td>3</td>\n",
       "      <td>440424.0</td>\n",
       "      <td>695171.0</td>\n",
       "      <td>0.0</td>\n",
       "      <td>0.0</td>\n",
       "      <td>0.0</td>\n",
       "      <td>1</td>\n",
       "      <td>0</td>\n",
       "      <td>0003</td>\n",
       "      <td>0.0</td>\n",
       "      <td>...</td>\n",
       "      <td>0.0</td>\n",
       "      <td>0.0</td>\n",
       "      <td>0.0</td>\n",
       "      <td>0.0</td>\n",
       "      <td>0.0</td>\n",
       "      <td>0.0</td>\n",
       "      <td>0.0</td>\n",
       "      <td>0.0</td>\n",
       "      <td>0.0</td>\n",
       "      <td>POINT (440424.000 695171.000)</td>\n",
       "    </tr>\n",
       "    <tr>\n",
       "      <th>3</th>\n",
       "      <td>4</td>\n",
       "      <td>440291.0</td>\n",
       "      <td>694447.0</td>\n",
       "      <td>0.0</td>\n",
       "      <td>0.0</td>\n",
       "      <td>0.0</td>\n",
       "      <td>1</td>\n",
       "      <td>0</td>\n",
       "      <td>0004</td>\n",
       "      <td>0.0</td>\n",
       "      <td>...</td>\n",
       "      <td>0.0</td>\n",
       "      <td>0.0</td>\n",
       "      <td>0.0</td>\n",
       "      <td>0.0</td>\n",
       "      <td>0.0</td>\n",
       "      <td>0.0</td>\n",
       "      <td>0.0</td>\n",
       "      <td>0.0</td>\n",
       "      <td>0.0</td>\n",
       "      <td>POINT (440291.000 694447.000)</td>\n",
       "    </tr>\n",
       "    <tr>\n",
       "      <th>4</th>\n",
       "      <td>5</td>\n",
       "      <td>440265.0</td>\n",
       "      <td>693718.0</td>\n",
       "      <td>0.0</td>\n",
       "      <td>0.0</td>\n",
       "      <td>0.0</td>\n",
       "      <td>1</td>\n",
       "      <td>0</td>\n",
       "      <td>0005</td>\n",
       "      <td>0.0</td>\n",
       "      <td>...</td>\n",
       "      <td>0.0</td>\n",
       "      <td>0.0</td>\n",
       "      <td>0.0</td>\n",
       "      <td>0.0</td>\n",
       "      <td>0.0</td>\n",
       "      <td>0.0</td>\n",
       "      <td>0.0</td>\n",
       "      <td>0.0</td>\n",
       "      <td>0.0</td>\n",
       "      <td>POINT (440265.000 693718.000)</td>\n",
       "    </tr>\n",
       "  </tbody>\n",
       "</table>\n",
       "<p>5 rows × 34 columns</p>\n",
       "</div>"
      ],
      "text/plain": [
       "   ID         X         Y  DATA1  DATA2  DATA3  ISZONE  ISINTERSEC LABEL  \\\n",
       "0   1  440298.0  696320.0    0.0    0.0    0.0       1           0  0001   \n",
       "1   2  440457.0  695794.0    0.0    0.0    0.0       1           0  0002   \n",
       "2   3  440424.0  695171.0    0.0    0.0    0.0       1           0  0003   \n",
       "3   4  440291.0  694447.0    0.0    0.0    0.0       1           0  0004   \n",
       "4   5  440265.0  693718.0    0.0    0.0    0.0       1           0  0005   \n",
       "\n",
       "   INBOAI  ...  @node_boar  @outodmetr  @pasmasivo  @pasmasiv0  @salidamas  \\\n",
       "0     0.0  ...         0.0         0.0         0.0         0.0         0.0   \n",
       "1     0.0  ...         0.0         0.0         0.0         0.0         0.0   \n",
       "2     0.0  ...         0.0         0.0         0.0         0.0         0.0   \n",
       "3     0.0  ...         0.0         0.0         0.0         0.0         0.0   \n",
       "4     0.0  ...         0.0         0.0         0.0         0.0         0.0   \n",
       "\n",
       "   @salidama0  @selem  @seln  @semaforo                       geometry  \n",
       "0         0.0     0.0    0.0        0.0  POINT (440298.000 696320.000)  \n",
       "1         0.0     0.0    0.0        0.0  POINT (440457.000 695794.000)  \n",
       "2         0.0     0.0    0.0        0.0  POINT (440424.000 695171.000)  \n",
       "3         0.0     0.0    0.0        0.0  POINT (440291.000 694447.000)  \n",
       "4         0.0     0.0    0.0        0.0  POINT (440265.000 693718.000)  \n",
       "\n",
       "[5 rows x 34 columns]"
      ]
     },
     "execution_count": 5,
     "metadata": {},
     "output_type": "execute_result"
    }
   ],
   "source": [
    "red_vial.head()"
   ]
  },
  {
   "cell_type": "markdown",
   "metadata": {},
   "source": [
    "A graph is made to illustrate the data of the segments that make up the network."
   ]
  },
  {
   "cell_type": "code",
   "execution_count": 28,
   "metadata": {},
   "outputs": [
    {
     "data": {
      "text/plain": [
       "<matplotlib.axes._subplots.AxesSubplot at 0x7fdcc3260610>"
      ]
     },
     "execution_count": 28,
     "metadata": {},
     "output_type": "execute_result"
    },
    {
     "data": {
      "image/png": "[encoded data removed]",
      "text/plain": [
       "<Figure size 576x720 with 1 Axes>"
      ]
     },
     "metadata": {
      "needs_background": "light"
     },
     "output_type": "display_data"
    }
   ],
   "source": [
    "red_vial.plot(figsize=(8,10), edgecolor = \"blue\", facecolor = \"None\")"
   ]
  },
  {
   "cell_type": "markdown",
   "metadata": {},
   "source": [
    "### Node data"
   ]
  },
  {
   "cell_type": "code",
   "execution_count": 13,
   "metadata": {},
   "outputs": [],
   "source": [
    "nodos = gdp.read_file('/Users/jorgesaavedra/Downloads/2017/emme_nodes.shx')"
   ]
  },
  {
   "cell_type": "markdown",
   "metadata": {},
   "source": [
    "Once the data is loaded, we can see that we have `186.660` nodes that make up the segment network."
   ]
  },
  {
   "cell_type": "code",
   "execution_count": 14,
   "metadata": {},
   "outputs": [
    {
     "data": {
      "text/plain": [
       "<Projected CRS: EPSG:32618>\n",
       "Name: WGS 84 / UTM zone 18N\n",
       "Axis Info [cartesian]:\n",
       "- E[east]: Easting (metre)\n",
       "- N[north]: Northing (metre)\n",
       "Area of Use:\n",
       "- name: World - N hemisphere - 78°W to 72°W - by country\n",
       "- bounds: (-78.0, 0.0, -72.0, 84.0)\n",
       "Coordinate Operation:\n",
       "- name: UTM zone 18N\n",
       "- method: Transverse Mercator\n",
       "Datum: World Geodetic System 1984\n",
       "- Ellipsoid: WGS 84\n",
       "- Prime Meridian: Greenwich"
      ]
     },
     "execution_count": 14,
     "metadata": {},
     "output_type": "execute_result"
    }
   ],
   "source": [
    "nodos.crs"
   ]
  },
  {
   "cell_type": "markdown",
   "metadata": {},
   "source": [
    "<table border=\"0\">\n",
    " <tr>\n",
    "    <td><b style=\"font-size:15px;align:center;\">Nodos</b></td>\n",
    "    <td><b style=\"font-size:15px;align:center;\">Red Vial</b></td>\n",
    " </tr>\n",
    " <tr>\n",
    "    <td><img src=\"puntos.png\"></td>\n",
    "    <td><img src=\"red.png\"></td>\n",
    " </tr>\n",
    "</table>"
   ]
  },
  {
   "cell_type": "markdown",
   "metadata": {},
   "source": [
    "### Data processing"
   ]
  },
  {
   "cell_type": "markdown",
   "metadata": {},
   "source": [
    "Based on the data of the road network and the nodes, using a program for processing geographical data, the conversion of the coordinates that are projected to geographical coordinates is carried out.\n",
    "\n",
    "Once the data is obtained, it is graphed on the map for validation using the library **kepler**"
   ]
  },
  {
   "cell_type": "code",
   "execution_count": 35,
   "metadata": {},
   "outputs": [],
   "source": [
    "pasajeros = pd.read_csv('/Users/jorgesaavedra/Downloads/amva_concurso/data/20200301.csv', \n",
    "                        usecols = ['LATITUD', 'LONGITUD'])\n",
    "\n",
    "nodos = pd.read_csv('/Users/jorgesaavedra/Downloads/2017/nodes.csv', usecols = ['xcoord', 'ycoord'])"
   ]
  },
  {
   "cell_type": "code",
   "execution_count": 42,
   "metadata": {},
   "outputs": [],
   "source": [
    "config = {\n",
    "'version': 'v1',\n",
    "'config': {\n",
    "    'mapState': {\n",
    "        'latitude': 6.217,\n",
    "        'longitude': -75.567,\n",
    "        'zoom': 12}\n",
    "        }\n",
    "}"
   ]
  },
  {
   "cell_type": "markdown",
   "metadata": {},
   "source": [
    "The map shows the location of the passengers boarding and deboarding events for a given day; the nodes that make up the segments of the transportation network are also represented."
   ]
  },
  {
   "cell_type": "code",
   "execution_count": 43,
   "metadata": {},
   "outputs": [
    {
     "name": "stdout",
     "output_type": "stream",
     "text": [
      "User Guide: https://docs.kepler.gl/docs/keplergl-jupyter\n"
     ]
    },
    {
     "data": {
      "application/vnd.jupyter.widget-view+json": {
       "model_id": "a7939d9708b04391a54ec7df88f91d3f",
       "version_major": 2,
       "version_minor": 0
      },
      "text/plain": [
       "KeplerGl(config={'version': 'v1', 'config': {'mapState': {'latitude': 6.217, 'longitude': -75.567, 'zoom': 12}…"
      ]
     },
     "metadata": {},
     "output_type": "display_data"
    }
   ],
   "source": [
    "mapa = KeplerGl(height = 800, data = {\"pax\": pasajeros, \"nodes\": nodos}, config = config)\n",
    "mapa"
   ]
  }
 ],
 "metadata": {
  "kernelspec": {
   "display_name": "Python 3",
   "language": "python",
   "name": "python3"
  },
  "language_info": {
   "codemirror_mode": {
    "name": "ipython",
    "version": 3
   },
   "file_extension": ".py",
   "mimetype": "text/x-python",
   "name": "python",
   "nbconvert_exporter": "python",
   "pygments_lexer": "ipython3",
   "version": "3.8.1"
  },
  "varInspector": {
   "cols": {
    "lenName": 16,
    "lenType": 16,
    "lenVar": 40
   },
   "kernels_config": {
    "python": {
     "delete_cmd_postfix": "",
     "delete_cmd_prefix": "del ",
     "library": "var_list.py",
     "varRefreshCmd": "print(var_dic_list())"
    },
    "r": {
     "delete_cmd_postfix": ") ",
     "delete_cmd_prefix": "rm(",
     "library": "var_list.r",
     "varRefreshCmd": "cat(var_dic_list()) "
    }
   },
   "types_to_exclude": [
    "module",
    "function",
    "builtin_function_or_method",
    "instance",
    "_Feature"
   ],
   "window_display": false
  }
 },
 "nbformat": 4,
 "nbformat_minor": 4
}
